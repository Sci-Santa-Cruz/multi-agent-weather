{
 "cells": [
  {
   "cell_type": "markdown",
   "id": "3159df66-2cc2-4679-b06d-b12f19ee36a3",
   "metadata": {},
   "source": [
    "# Diseño Conceptual del Agente\n",
    "\n",
    "## Objetivo\n",
    "Este notebook está dedicado a conceptualizar y diseñar la arquitectura de nuestro agente. Definiremos sus capacidades, responsabilidades y comportamientos fundamentales antes de la implementación técnica. Crearemos un blueprint claro que servirá como guía para el desarrollo.\n",
    "\n",
    "En este notebook:\n",
    "- Definiremos arquitectura cognitiva y multiagente\n",
    "- Definiremos el rol específico y propósito del agente\n",
    "- Diseñaremos el flujo de decisiones y comportamientos del agente\n",
    "- Especificaremos las capacidades y herramientas necesarias\n",
    "- Crearemos diagramas y modelos conceptuales del comportamiento del agente\n",
    "\n",
    "### Decisiones de Alto Nivel\n",
    "- **Definir Arquitectura Multiagente**: Evaluar y seleccionar entre:\n",
    "  - Arquitectura de Agente Único con múltiples herramientas\n",
    "  - Red de Agentes Colaborativos con comunicación directa\n",
    "  - Arquitectura Jerárquica con agente supervisor\n",
    "  \n",
    "- **Seleccionar Patrón Cognitivo**: Determinar el enfoque para procesamiento de consultas:\n",
    "  - Router-based (clasificación central y enrutamiento)\n",
    "  - Chain-of-Thought (razonamiento paso a paso)\n",
    "  - ReAct (combinación de razonamiento y acción)\n",
    "  \n",
    "- **Definir Mecanismo de Orquestación**: Establecer cómo fluirá la información:\n",
    "  - Modelo de eventos\n",
    "  - Flujo de trabajo secuencial\n",
    "  - Procesamiento paralelo con sincronización\n",
    "\n",
    "### Preparación para Fase de Diseño\n",
    "- Investigar APIs disponibles para cada dominio funcional\n",
    "- Establecer criterios para la selección de modelos LLM\n",
    "- Definir el diseño conceptual de los agentes y sus interacciones\n",
    "- Crear plantillas para documentación de diseño de agentes"
   ]
  },
  {
   "cell_type": "markdown",
   "id": "9af85df1-667a-4372-9758-52fb15dcb152",
   "metadata": {},
   "source": [
    "\n",
    "\n",
    "## Diseño Conceptual del Agente\n",
    "\n",
    "### 🎯 Objetivo\n",
    "Este notebook conceptualiza y diseña la arquitectura de un asistente AI multifuncional basado en LangGraph y APIs abiertas. El agente responderá a consultas del usuario que requieran ejecutar tareas en paralelo o en secuencia, incluyendo la consulta del clima, el tipo de cambio y titulares de noticias.\n",
    "\n",
    "---\n",
    "\n",
    "### 1. Arquitectura Cognitiva y Multiagente\n",
    "\n",
    "#### Tipo de Arquitectura Multiagente Seleccionada\n",
    "**Red de Agentes Colaborativos con Comunicación Directa**, basada en un grafo definido con `langgraph`, donde cada nodo es un agente especializado.\n",
    "\n",
    "#### Justificación\n",
    "- Cada tarea se puede representar como un nodo en el grafo.\n",
    "- Permite paralelismo y composición dinámica de tareas.\n",
    "- Se adapta bien a workflows orquestados de manera flexible.\n",
    "- Manejo de errores: Si un agente falla, el sistema redirige el flujo a un manejador de errores (F) para gestionar el fallo de manera adecuada, ya sea reintentando, escalando el problema o notificando el error de manera apropiada.\n",
    "\n",
    "---\n",
    "\n",
    "### 🧠 2. Patrón Cognitivo Seleccionado\n",
    "\n",
    "**ReAct (Razonamiento + Acción)** con un enfoque orientado a:\n",
    "- Identificar tareas requeridas (razonamiento)\n",
    "- Llamar APIs correspondientes (acción)\n",
    "- Agrupar respuestas (reflexión)\n",
    "- Manejo de errores: Si en cualquier fase del razonamiento o acción un error es detectado (por ejemplo, error en API o en los datos), se redirige el flujo a un proceso de manejo de errores donde se puede optar por reintentar, escalar el problema, o dar una respuesta parcial en base a la información disponible.\n",
    "---\n",
    "\n",
    "\n",
    "### 3. Mecanismo de Orquestación\n",
    "\n",
    "**Modelo de eventos con sincronización**, implementado en `langgraph`:\n",
    "\n",
    "- Flujo principal:\n",
    "  - Recepción de consulta → Clasificación de tareas → Llamado de agentes → Agregación → Respuesta final.\n",
    "- Flujo adaptativo:\n",
    "  - Si hay tareas paralelizables (ej. clima + tipo de cambio), se ejecutan en paralelo.\n",
    "  - Si hay dependencias, se sigue flujo secuencial.\n",
    "\n",
    "**Manejo de errores en MVP**:\n",
    "- El **nodo de errores** actualmente tiene una función **simplificada**:\n",
    "  - Su objetivo principal es **traducir errores técnicos (como fallos de API o agentes)** en respuestas entendibles para el usuario final.\n",
    "  - Por ejemplo, un error de tipo `API Timeout` se convierte en una respuesta tipo: _\"No pudimos obtener esa información en este momento, intenta más tarde.\"_  \n",
    "- Este nodo **no realiza aún reintentos, ni prompt engineering, ni estrategias de fallback complejas**.\n",
    "- En futuras versiones se contempla su evolución hacia:\n",
    "  - Reintentos con backoff.\n",
    "  - Alternativas de prompt si falla la primera generación.\n",
    "  - Afinación del prompt o contexto según historial reciente del flujo.\n",
    "\n",
    "---\n",
    "\n",
    "### 4. Capacidades y Herramientas Necesarias\n",
    "\n",
    "\n",
    "| Componente              | Descripción                                          | Herramienta/API             |\n",
    "|-------------------------|------------------------------------------------------|-----------------------------|\n",
    "| Clasificación de tareas | Detectar qué agentes deben activarse                | Regex, heurísticas, o LLM   |\n",
    "| Consulta de clima       | Obtener clima actual                                 | OpenWeatherMap API          |\n",
    "| Tipo de cambio          | Obtener tasas de cambio actualizadas                 | ExchangeRate-API            |\n",
    "| Noticias                | Obtener titulares recientes                          | NewsAPI                     |\n",
    "| Manejo de errores       | Captura y descripción de fallas                      | Nodo especializado          |\n",
    "| Agregación de resultados | Ensamblar respuesta final con éxitos y errores     | Lógica de combinación local |\n",
    "\n",
    "---\n",
    "\n",
    "### 👤 5. Rol del Agente\n",
    "\n",
    "El agente actúa como **un asistente modular y orquestador** que:\n",
    "- Entiende la intención del usuario\n",
    "- Coordina la ejecución de múltiples agentes especializados\n",
    "- Ensambla y entrega una respuesta compuesta y contextualizada\n",
    "\n",
    "---\n",
    "\n",
    "\n",
    "### 6. Diagramas y Modelos Conceptuales\n",
    "\n",
    "Puedes crear un diagrama visual con herramientas como draw.io, diagrams.net o Mermaid (si usas VS Code o notebooks compatibles)."
   ]
  },
  {
   "cell_type": "code",
   "execution_count": 3,
   "id": "e1f34a3d-97e3-4d34-b6bf-2eb85e9503bb",
   "metadata": {},
   "outputs": [
    {
     "name": "stdout",
     "output_type": "stream",
     "text": [
      "01_business_requirements.ipynb\t04_agent_prototyping.ipynb\n",
      "02_agent_design.ipynb\n"
     ]
    }
   ],
   "source": [
    "!ls"
   ]
  },
  {
   "cell_type": "markdown",
   "id": "df5d4c7a-5cfc-442b-9f2f-77aedb32c1d7",
   "metadata": {},
   "source": [
    "<img src=\"../images/flow.png\" alt=\"Diagrama del agente\" width=\"600\"/>\n"
   ]
  },
  {
   "cell_type": "markdown",
   "id": "bca94ddf-83d3-4a21-9974-b4af978c5b0d",
   "metadata": {},
   "source": [
    "\n",
    "\n",
    "### 📦 7. Preparación para la Fase de Diseño Técnico\n",
    "\n",
    "- ✅ Evaluar credenciales y tasas de uso de OpenWeatherMap, ExchangeRate-API y NewsAPI\n",
    "- ✅ Decidir entre heurísticas vs LLM para clasificación\n",
    "- ✅ Diseñar nodos modulares reutilizables\n",
    "- ✅ Crear estructura de carpetas por agente\n",
    "- ✅ Documentar protocolos de entrada/salida por agente\n",
    "\n",
    "---\n"
   ]
  },
  {
   "cell_type": "code",
   "execution_count": null,
   "id": "fa284324-2ecf-45c5-9ab5-15656ea0e451",
   "metadata": {},
   "outputs": [],
   "source": []
  }
 ],
 "metadata": {
  "kernelspec": {
   "display_name": "conda_python3",
   "language": "python",
   "name": "conda_python3"
  },
  "language_info": {
   "codemirror_mode": {
    "name": "ipython",
    "version": 3
   },
   "file_extension": ".py",
   "mimetype": "text/x-python",
   "name": "python",
   "nbconvert_exporter": "python",
   "pygments_lexer": "ipython3",
   "version": "3.10.16"
  }
 },
 "nbformat": 4,
 "nbformat_minor": 5
}
