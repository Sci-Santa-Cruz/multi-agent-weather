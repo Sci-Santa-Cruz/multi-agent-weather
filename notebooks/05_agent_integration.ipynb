{
 "cells": [
  {
   "cell_type": "markdown",
   "id": "1809657d-e328-4e97-a7a9-75f283fc2cb3",
   "metadata": {},
   "source": [
    "# Integración del Agente\n",
    "\n",
    "## Objetivo\n",
    "Este notebook explora cómo nuestro agente se integra dentro del ecosistema más amplio, incluyendo la interacción con otros agentes, subagentes, sistemas externos y el framework de orquestación. Estableceremos los mecanismos de comunicación y coordinación necesarios para el funcionamiento cohesivo del sistema.\n",
    "\n",
    "En este notebook:\n",
    "- Implementaremos protocolos de comunicación entre agentes\n",
    "- Desarrollaremos mecanismos para la gestión de subagentes\n",
    "- Configuraremos la integración con sistemas y APIs externos\n",
    "- Estableceremos la integración con el sistema de orquestación central"
   ]
  },
  {
   "cell_type": "code",
   "execution_count": 1,
   "id": "2a63e88a-62e9-41b7-b132-c5e7ebe3c1eb",
   "metadata": {},
   "outputs": [],
   "source": [
    "# %pip install langchain_community"
   ]
  },
  {
   "cell_type": "code",
   "execution_count": 2,
   "id": "77906610-55a0-4806-a21d-bce2fe16ae75",
   "metadata": {},
   "outputs": [],
   "source": [
    "from os import chdir\n",
    "\n",
    "chdir(\"../\")"
   ]
  },
  {
   "cell_type": "code",
   "execution_count": 3,
   "id": "4619e2b4-e0e3-4910-b299-c6db77a97998",
   "metadata": {},
   "outputs": [],
   "source": [
    "from core.agent_state import AgentState\n",
    "from typing import TypedDict, List, Optional\n",
    "from langchain.schema import HumanMessage, SystemMessage\n",
    "from langchain.chat_models import ChatOpenAI\n",
    "import json\n",
    "import os\n",
    "import requests\n",
    "from langgraph.graph import StateGraph, END, START\n",
    "from nodes.order_tasks import order_tasks\n",
    "from nodes.classify_query import classify_tasks\n",
    "from nodes.error_handler import error_handler\n",
    "from nodes.aggregator_tasks import aggregator\n",
    "\n",
    "from agents.currency_agent import get_exchange_rate\n",
    "from agents.news_agent import get_news\n",
    "from agents.weather_agent import get_weather\n"
   ]
  },
  {
   "cell_type": "code",
   "execution_count": 4,
   "id": "dec8910d-bd9c-4a25-bc83-3f7b9683d9e7",
   "metadata": {},
   "outputs": [],
   "source": [
    "\n",
    "def check_completion(state: AgentState):\n",
    "    # Toma todas las llaves actuales de tareas completadas\n",
    "    completed_tasks = list(state.get(\"task_completed\", {}).keys())\n",
    "\n",
    "    print(f\"Tareas a verificar: {completed_tasks}\")\n",
    "    print(state)\n",
    "\n",
    "    # Verifica que todas las tareas listadas estén marcadas como completadas (valor True)\n",
    "    all_completed = all(state[\"task_completed\"].get(task, False) for task in completed_tasks)\n",
    "\n",
    "    print(f\"Verificando completitud: {all_completed}\")\n",
    "    print(f\"Estado actual: {state['task_completed']}\")\n",
    "\n",
    "    # Si todas están completas, marcamos como listo para agregar\n",
    "    if all_completed:\n",
    "        state[\"ready_to_aggregate\"] = True\n",
    "\n",
    "    return state\n",
    "\n"
   ]
  },
  {
   "cell_type": "code",
   "execution_count": 5,
   "id": "32dbd52c-14d5-4305-ad4e-7054e7a3e54a",
   "metadata": {},
   "outputs": [],
   "source": [
    "graph = StateGraph(AgentState)\n",
    "\n",
    "# 🧠 Nodes\n",
    "graph.add_node(\"classify\", classify_tasks)\n",
    "graph.add_node(\"task_weather\", get_weather)\n",
    "graph.add_node(\"task_exchange\", get_exchange_rate)\n",
    "graph.add_node(\"task_news\", get_news)\n",
    "graph.add_node(\"task_order\", order_tasks)\n",
    "graph.add_node(\"handle_error\", error_handler)\n",
    "graph.add_node(\"check_completion\", check_completion)\n",
    "graph.add_node(\"aggregate\", aggregator)\n",
    "\n",
    "# ▶️ Start → classify\n",
    "graph.add_edge(START, \"classify\")\n",
    "\n",
    "# 🔀 Conditional route from classify\n",
    "def route_tasks(state):\n",
    "    tasks = []\n",
    "    if state[\"tasks_to_do\"].get(\"weather\", False):\n",
    "        tasks.append(\"task_weather\")\n",
    "    if state[\"tasks_to_do\"].get(\"exchange\", False):\n",
    "        tasks.append(\"task_exchange\")\n",
    "    if state[\"tasks_to_do\"].get(\"news\", False):\n",
    "        tasks.append(\"task_news\")\n",
    "    tasks.append(\"task_order\")  # always\n",
    "    print(\"tasks\", tasks)\n",
    "    return tasks\n",
    "\n",
    "graph.add_conditional_edges(\"classify\", route_tasks)\n",
    "\n",
    "def determine_next(state, task_name):\n",
    "    errors = state.get(\"error\", {})\n",
    "    key = task_to_error_key.get(task_name)\n",
    "    if errors.get(key):\n",
    "        print(f\"⚠️ Task failed: {task_name} → {errors[key]}\")\n",
    "        return [\"handle_error\"]\n",
    "    return [\"check_completion\"]\n",
    "\n",
    "# Each task → error or completion\n",
    "for task in [\"task_weather\", \"task_exchange\", \"task_news\", \"task_order\"]:\n",
    "    graph.add_conditional_edges(\n",
    "        task,\n",
    "        lambda state, task_name=task: determine_next(state, task_name)\n",
    "    )\n",
    "\n",
    "# 🛠️ Handle error → Check completion\n",
    "graph.add_edge(\"handle_error\", \"check_completion\")\n",
    "\n",
    "# ✅ Check if all done → Aggregate\n",
    "graph.add_conditional_edges(\n",
    "    \"check_completion\",\n",
    "    lambda state: [\"aggregate\"] if state.get(\"ready_to_aggregate\", False) else []\n",
    ")\n",
    "\n",
    "# 🔚 Aggregate → END\n",
    "graph.add_edge(\"aggregate\", END)\n",
    "\n",
    "\n",
    "# 🔄 Determine next step: error or completion\n",
    "task_to_error_key = {\n",
    "    \"task_weather\": \"weather\",\n",
    "    \"task_exchange\": \"exchange\",\n",
    "    \"task_news\": \"news\",\n",
    "    \"task_order\": \"order\"\n",
    "}\n",
    "\n",
    "\n",
    "# 🚀 Compile app\n",
    "app = graph.compile()\n"
   ]
  },
  {
   "cell_type": "code",
   "execution_count": 6,
   "id": "170f3103-d1ff-4938-a002-f3f8fee06c82",
   "metadata": {},
   "outputs": [],
   "source": [
    "# print(app.get_graph().draw_mermaid())"
   ]
  },
  {
   "cell_type": "markdown",
   "id": "6499b3a4-c49b-4d8a-9efb-b6c89f310627",
   "metadata": {},
   "source": [
    "# Test de Agente "
   ]
  },
  {
   "cell_type": "code",
   "execution_count": 7,
   "id": "a678cb64-4dad-477c-85af-f6e3bc8d19c8",
   "metadata": {},
   "outputs": [
    {
     "name": "stdout",
     "output_type": "stream",
     "text": [
      "tasks ['task_weather', 'task_exchange', 'task_news', 'task_order']\n",
      "Tareas a verificar: ['exchange', 'news', 'order', 'weather']\n",
      "{'messages': [HumanMessage(content='Quiero saber el clima en new york y como esta el dolar con respecto al peso mexicano y las ultimas noticias', additional_kwargs={}, response_metadata={}, id='5b79a721-f3b6-425c-bdca-59bf5bc8e088')], 'order_task': {'weather': 1, 'exchange': 2, 'noticias': 3}, 'error': {}, 'results': {'exchange': ['1 USD = 19.5951 MXN'], 'news': ['Headlines in US: LIVE UPDATES: Thousands bid farewell to Pope Francis as Vatican looks to extend viewing hours - Catholic News Agency, Everything You Need to Know About Preordering a Nintendo Switch 2 - WIRED, 17 Modifiable Lifestyle Factors That Protect Your Brain From Aging and Dementia - SciTechDaily'], 'weather': ['The weather in New York is clear sky with a temperature of 19.32°C.']}, 'task_completed': {'exchange': True, 'news': True, 'order': True, 'weather': True}, 'tasks_to_do': {'weather': True, 'exchange': True, 'news': True}, 'ready_to_aggregate': False, 'history': ['classify_tasks', 'task_exchange', 'task_news', 'task_order', 'task_weather']}\n",
      "Verificando completitud: True\n",
      "Estado actual: {'exchange': True, 'news': True, 'order': True, 'weather': True}\n"
     ]
    }
   ],
   "source": [
    "from typing import List, Dict, Any, Optional\n",
    "from langchain.schema import HumanMessage, BaseMessage\n",
    "\n",
    "# Ejecución de prueba\n",
    "inputs = {\n",
    "    \"messages\": [HumanMessage(content=\"Quiero saber el clima en new york y como esta el dolar con respecto al peso mexicano y las ultimas noticias\")],\n",
    "    \"order_task\": None,\n",
    "    \"task_completed\": {},\n",
    "    \"results\": {},\n",
    "    \"error\": {},\n",
    "    \"tasks_to_do\": {},\n",
    "    \"ready_to_aggregate\": False,\n",
    "}\n",
    "\n",
    "response = app.invoke(inputs)\n"
   ]
  },
  {
   "cell_type": "code",
   "execution_count": 8,
   "id": "8915f92b-91fc-4629-be42-ea9d32ce11ba",
   "metadata": {},
   "outputs": [
    {
     "name": "stdout",
     "output_type": "stream",
     "text": [
      "¡Hola! Aquí te dejo el pronóstico del clima para Nueva York: cielo despejado con una temperatura de 19.32°C. ¡Que tengas un excelente día! 🌞🌇\n",
      "¡Hola! Aquí te dejo el tipo de cambio actual: 1 USD = 19.5951 MXN. ¡Espero que te sea útil! ¡Que tengas un excelente día!\n"
     ]
    }
   ],
   "source": [
    "for item in (response[\"results\"]['aggregator']):\n",
    "    print(item)"
   ]
  },
  {
   "cell_type": "code",
   "execution_count": null,
   "id": "1d50bdf5-06e6-4f7c-8d7f-af5e08be08ce",
   "metadata": {},
   "outputs": [],
   "source": []
  },
  {
   "cell_type": "code",
   "execution_count": null,
   "id": "687d263f-ac7b-4810-886a-1ffc9dff4807",
   "metadata": {},
   "outputs": [],
   "source": []
  }
 ],
 "metadata": {
  "kernelspec": {
   "display_name": "conda_python3",
   "language": "python",
   "name": "conda_python3"
  },
  "language_info": {
   "codemirror_mode": {
    "name": "ipython",
    "version": 3
   },
   "file_extension": ".py",
   "mimetype": "text/x-python",
   "name": "python",
   "nbconvert_exporter": "python",
   "pygments_lexer": "ipython3",
   "version": "3.10.16"
  }
 },
 "nbformat": 4,
 "nbformat_minor": 5
}
